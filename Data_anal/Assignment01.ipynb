{
 "cells": [
  {
   "cell_type": "code",
   "execution_count": 1,
   "metadata": {},
   "outputs": [],
   "source": [
    "import requests\n",
    "from bs4 import BeautifulSoup\n",
    "import re as rere\n",
    "import time\n",
    "import pandas as pd"
   ]
  },
  {
   "cell_type": "code",
   "execution_count": 2,
   "metadata": {},
   "outputs": [],
   "source": [
    "re = requests.get('https://movie.naver.com/movie/bi/mi/pointWriteFormList.nhn?code=167638&type=after&isActualPointWriteExecute=false&isMileageSubscriptionAlready=false&isMileageSubscriptionReject=false&page=1')\n",
    "soup = BeautifulSoup(re.text, 'html.parser')"
   ]
  },
  {
   "cell_type": "markdown",
   "metadata": {},
   "source": [
    "#### 총 몇 건인지 확인하고 페이지 수 맞추기"
   ]
  },
  {
   "cell_type": "code",
   "execution_count": 3,
   "metadata": {},
   "outputs": [
    {
     "name": "stdout",
     "output_type": "stream",
     "text": [
      "9,294\n"
     ]
    }
   ],
   "source": [
    "howmany = soup.find('strong',{'class':'total'}).findAll('em')[1].get_text()\n",
    "print(howmany)\n",
    "#10개가 한 페이지에 존재하므로, 919개의 페이지를 크롤링한다."
   ]
  },
  {
   "cell_type": "code",
   "execution_count": 4,
   "metadata": {},
   "outputs": [],
   "source": [
    "suburl = 'https://movie.naver.com/movie/bi/mi/pointWriteFormList.nhn?code=167638&type=after&isActualPointWriteExecute=false&isMileageSubscriptionAlready=false&isMileageSubscriptionReject=false&page='\n",
    "url = []\n",
    "for i in range(1,930):\n",
    "    url.append(suburl+str(i))\n",
    "\n",
    "ID = []\n",
    "date = []\n",
    "score = []\n",
    "text = []"
   ]
  },
  {
   "cell_type": "code",
   "execution_count": 5,
   "metadata": {},
   "outputs": [],
   "source": [
    "for link in url:\n",
    "    re = requests.get(link)\n",
    "    soup = BeautifulSoup(re.text, 'html.parser')\n",
    "    source = soup.findAll('div',{'class':'score_reple'})\n",
    "\n",
    "    ##ID\n",
    "    #닉네임 / 관람객 태그 제거 후, 아이디만 남기기\n",
    "    for i in range(10):\n",
    "        if len(source[i].findAll('span'))==2:\n",
    "            x = source[i].findAll('span')[1].get_text()\n",
    "        else:\n",
    "            x = source[i].find('span').get_text()\n",
    "        m = rere.search('[a-zA-Z0-9_-]{4}[\\*]{4}',x).group()\n",
    "        ID.append(m)\n",
    "    ##날짜 / 시간\n",
    "    source = soup.findAll('div',{'class':'score_reple'})\n",
    "    for k in range(0,10):\n",
    "        d = source[k].findAll('em')\n",
    "        date.append(d[1].get_text())\n",
    "\n",
    "    ##평점 리스트\n",
    "    star = soup.findAll('div',{'class':'star_score'})\n",
    "    for i in range(1,11):\n",
    "        u = star[i].get_text(); u = rere.sub('\\n','',u);\n",
    "        score.append(u)\n",
    "    #score = score[1:]\n",
    "    #score\n",
    "\n",
    "    ##리뷰 리스트\n",
    "    for i in range(0,10):\n",
    "        t = source[i].find('p')\n",
    "        text.append(t.get_text())"
   ]
  },
  {
   "cell_type": "code",
   "execution_count": null,
   "metadata": {
    "scrolled": true
   },
   "outputs": [],
   "source": [
    "rst = {'ID': ID,\n",
    "        'score': score,\n",
    "        'date' : date,\n",
    "        'review': text}\n",
    "data = pd.DataFrame(rst)"
   ]
  },
  {
   "cell_type": "markdown",
   "metadata": {},
   "source": [
    "### 예시 텍스트 파일"
   ]
  },
  {
   "cell_type": "markdown",
   "metadata": {},
   "source": [
    "##### 처음 10개 살펴보기"
   ]
  },
  {
   "cell_type": "code",
   "execution_count": 7,
   "metadata": {},
   "outputs": [
    {
     "data": {
      "text/html": [
       "<div>\n",
       "<style scoped>\n",
       "    .dataframe tbody tr th:only-of-type {\n",
       "        vertical-align: middle;\n",
       "    }\n",
       "\n",
       "    .dataframe tbody tr th {\n",
       "        vertical-align: top;\n",
       "    }\n",
       "\n",
       "    .dataframe thead th {\n",
       "        text-align: right;\n",
       "    }\n",
       "</style>\n",
       "<table border=\"1\" class=\"dataframe\">\n",
       "  <thead>\n",
       "    <tr style=\"text-align: right;\">\n",
       "      <th></th>\n",
       "      <th>ID</th>\n",
       "      <th>score</th>\n",
       "      <th>date</th>\n",
       "      <th>review</th>\n",
       "    </tr>\n",
       "  </thead>\n",
       "  <tbody>\n",
       "    <tr>\n",
       "      <th>0</th>\n",
       "      <td>warm****</td>\n",
       "      <td>10</td>\n",
       "      <td>2018.10.31 10:11</td>\n",
       "      <td>촬영 장소? 스케일? 다른 거 다 필요 없다. 최고의 배우들이 자그마한 식탁 위에서...</td>\n",
       "    </tr>\n",
       "    <tr>\n",
       "      <th>1</th>\n",
       "      <td>konm****</td>\n",
       "      <td>10</td>\n",
       "      <td>2018.10.31 09:03</td>\n",
       "      <td>관람객사람의 본심은 월식과 같아서 언젠가 드러나는 법</td>\n",
       "    </tr>\n",
       "    <tr>\n",
       "      <th>2</th>\n",
       "      <td>yhoc****</td>\n",
       "      <td>8</td>\n",
       "      <td>2018.10.31 10:02</td>\n",
       "      <td>다른 의미로 공포 영화.</td>\n",
       "    </tr>\n",
       "    <tr>\n",
       "      <th>3</th>\n",
       "      <td>star****</td>\n",
       "      <td>10</td>\n",
       "      <td>2018.10.31 13:18</td>\n",
       "      <td>저게우리였으면  아무한테도연락안와서 밥만먹고끝났을듯 ㅜ ㅜ</td>\n",
       "    </tr>\n",
       "    <tr>\n",
       "      <th>4</th>\n",
       "      <td>norr****</td>\n",
       "      <td>10</td>\n",
       "      <td>2018.10.31 09:40</td>\n",
       "      <td>올해  최고의 블랙코미디. 유해진의 연기는 믿고 봅니다.</td>\n",
       "    </tr>\n",
       "    <tr>\n",
       "      <th>5</th>\n",
       "      <td>more****</td>\n",
       "      <td>10</td>\n",
       "      <td>2018.10.31 10:09</td>\n",
       "      <td>관람객간만에 극장에서 다 같이 웃는 경험 한거 같아요 ㅋㅋㅋㅋ 웃음 포인트도 많고 ...</td>\n",
       "    </tr>\n",
       "    <tr>\n",
       "      <th>6</th>\n",
       "      <td>jssh****</td>\n",
       "      <td>10</td>\n",
       "      <td>2018.10.31 15:37</td>\n",
       "      <td>57세 키티는 최고!! 간만에 배아프게 웃으며 봤습니다 ^^</td>\n",
       "    </tr>\n",
       "    <tr>\n",
       "      <th>7</th>\n",
       "      <td>gch7****</td>\n",
       "      <td>10</td>\n",
       "      <td>2018.10.31 14:57</td>\n",
       "      <td>윤경호라는 배우의 대발견.. 큰 배우들사에서도 전혀 꿀리는거없이 존재감 제대로 사네</td>\n",
       "    </tr>\n",
       "    <tr>\n",
       "      <th>8</th>\n",
       "      <td>olzl****</td>\n",
       "      <td>10</td>\n",
       "      <td>2018.10.31 18:56</td>\n",
       "      <td>서로를 잘 모르기에 함께 살 수 있는 우리들</td>\n",
       "    </tr>\n",
       "    <tr>\n",
       "      <th>9</th>\n",
       "      <td>tkek****</td>\n",
       "      <td>10</td>\n",
       "      <td>2018.10.31 10:58</td>\n",
       "      <td>요즘 망해가는 한국영화들중에 젤만족스러웠다 막장같은 스토리임에도 깔끔한연출과 배우들...</td>\n",
       "    </tr>\n",
       "  </tbody>\n",
       "</table>\n",
       "</div>"
      ],
      "text/plain": [
       "         ID score              date  \\\n",
       "0  warm****    10  2018.10.31 10:11   \n",
       "1  konm****    10  2018.10.31 09:03   \n",
       "2  yhoc****     8  2018.10.31 10:02   \n",
       "3  star****    10  2018.10.31 13:18   \n",
       "4  norr****    10  2018.10.31 09:40   \n",
       "5  more****    10  2018.10.31 10:09   \n",
       "6  jssh****    10  2018.10.31 15:37   \n",
       "7  gch7****    10  2018.10.31 14:57   \n",
       "8  olzl****    10  2018.10.31 18:56   \n",
       "9  tkek****    10  2018.10.31 10:58   \n",
       "\n",
       "                                              review  \n",
       "0  촬영 장소? 스케일? 다른 거 다 필요 없다. 최고의 배우들이 자그마한 식탁 위에서...  \n",
       "1                    관람객사람의 본심은 월식과 같아서 언젠가 드러나는 법    \n",
       "2                                    다른 의미로 공포 영화.    \n",
       "3                 저게우리였으면  아무한테도연락안와서 밥만먹고끝났을듯 ㅜ ㅜ    \n",
       "4                  올해  최고의 블랙코미디. 유해진의 연기는 믿고 봅니다.    \n",
       "5  관람객간만에 극장에서 다 같이 웃는 경험 한거 같아요 ㅋㅋㅋㅋ 웃음 포인트도 많고 ...  \n",
       "6                57세 키티는 최고!! 간만에 배아프게 웃으며 봤습니다 ^^    \n",
       "7   윤경호라는 배우의 대발견.. 큰 배우들사에서도 전혀 꿀리는거없이 존재감 제대로 사네    \n",
       "8                         서로를 잘 모르기에 함께 살 수 있는 우리들    \n",
       "9  요즘 망해가는 한국영화들중에 젤만족스러웠다 막장같은 스토리임에도 깔끔한연출과 배우들...  "
      ]
     },
     "execution_count": 7,
     "metadata": {},
     "output_type": "execute_result"
    }
   ],
   "source": [
    "data[:10]"
   ]
  },
  {
   "cell_type": "markdown",
   "metadata": {},
   "source": [
    "##### 마지막 10개 살펴보기"
   ]
  },
  {
   "cell_type": "code",
   "execution_count": 9,
   "metadata": {},
   "outputs": [
    {
     "data": {
      "text/html": [
       "<div>\n",
       "<style scoped>\n",
       "    .dataframe tbody tr th:only-of-type {\n",
       "        vertical-align: middle;\n",
       "    }\n",
       "\n",
       "    .dataframe tbody tr th {\n",
       "        vertical-align: top;\n",
       "    }\n",
       "\n",
       "    .dataframe thead th {\n",
       "        text-align: right;\n",
       "    }\n",
       "</style>\n",
       "<table border=\"1\" class=\"dataframe\">\n",
       "  <thead>\n",
       "    <tr style=\"text-align: right;\">\n",
       "      <th></th>\n",
       "      <th>ID</th>\n",
       "      <th>score</th>\n",
       "      <th>date</th>\n",
       "      <th>review</th>\n",
       "    </tr>\n",
       "  </thead>\n",
       "  <tbody>\n",
       "    <tr>\n",
       "      <th>9280</th>\n",
       "      <td>zzzj****</td>\n",
       "      <td>1</td>\n",
       "      <td>2018.10.31 14:05</td>\n",
       "      <td>와 롯데.. 알바생들 진짜 많이쓴다. 그래서 1점 주고싶어지게 만드네.. 진짜 마케...</td>\n",
       "    </tr>\n",
       "    <tr>\n",
       "      <th>9281</th>\n",
       "      <td>happ****</td>\n",
       "      <td>2</td>\n",
       "      <td>2018.11.03 03:41</td>\n",
       "      <td>장소 이동없이 한신으로 찍은 최저 제작비인듯결국..전부 상상이고  ㅡㅡ중간중간 웃음...</td>\n",
       "    </tr>\n",
       "    <tr>\n",
       "      <th>9282</th>\n",
       "      <td>dant****</td>\n",
       "      <td>1</td>\n",
       "      <td>2018.10.31 10:06</td>\n",
       "      <td>올해 최악의 영화네요 별점 1점도 아까움</td>\n",
       "    </tr>\n",
       "    <tr>\n",
       "      <th>9283</th>\n",
       "      <td>min4****</td>\n",
       "      <td>2</td>\n",
       "      <td>2018.11.04 15:54</td>\n",
       "      <td>이거 보면서 나가고싶은 순간이 10번 넘는다.이거 평점 5점 이상 준 사람 머지 어...</td>\n",
       "    </tr>\n",
       "    <tr>\n",
       "      <th>9284</th>\n",
       "      <td>kmh0****</td>\n",
       "      <td>1</td>\n",
       "      <td>2018.11.03 00:22</td>\n",
       "      <td>알바들 때문에 1점 놓고 감 물론 영화는 안봤고 볼 생각도 없음</td>\n",
       "    </tr>\n",
       "    <tr>\n",
       "      <th>9285</th>\n",
       "      <td>pari****</td>\n",
       "      <td>1</td>\n",
       "      <td>2018.11.06 00:43</td>\n",
       "      <td>여혐+퀴어비하 끔찍파티</td>\n",
       "    </tr>\n",
       "    <tr>\n",
       "      <th>9286</th>\n",
       "      <td>pjb6****</td>\n",
       "      <td>6</td>\n",
       "      <td>2018.11.01 13:55</td>\n",
       "      <td>마지막컷은 이사람들이 게임을하지않았을시 전개과정을 나타냄 10소름인건 이서진이랑 조...</td>\n",
       "    </tr>\n",
       "    <tr>\n",
       "      <th>9287</th>\n",
       "      <td>cu_9****</td>\n",
       "      <td>1</td>\n",
       "      <td>2018.11.01 23:16</td>\n",
       "      <td>빵점은 못주나요? 여혐이주류 그리고 첨가된 동성애혐 진짜 여자 가슴이야기가 내용의 ...</td>\n",
       "    </tr>\n",
       "    <tr>\n",
       "      <th>9288</th>\n",
       "      <td>poma****</td>\n",
       "      <td>4</td>\n",
       "      <td>2018.10.31 18:43</td>\n",
       "      <td>평점들 믿지 마세요.. 어디가 고오급 드립인지도 모르겠고 문자 올때마다 하나같이 개...</td>\n",
       "    </tr>\n",
       "    <tr>\n",
       "      <th>9289</th>\n",
       "      <td>1phi****</td>\n",
       "      <td>2</td>\n",
       "      <td>2018.10.31 10:15</td>\n",
       "      <td>보다초반에짜증나구지루해서 뛰쳐나옴;; 조나재미없구지들밥처먹구수다떠는걸왜 구경해줘야하...</td>\n",
       "    </tr>\n",
       "  </tbody>\n",
       "</table>\n",
       "</div>"
      ],
      "text/plain": [
       "            ID score              date  \\\n",
       "9280  zzzj****     1  2018.10.31 14:05   \n",
       "9281  happ****     2  2018.11.03 03:41   \n",
       "9282  dant****     1  2018.10.31 10:06   \n",
       "9283  min4****     2  2018.11.04 15:54   \n",
       "9284  kmh0****     1  2018.11.03 00:22   \n",
       "9285  pari****     1  2018.11.06 00:43   \n",
       "9286  pjb6****     6  2018.11.01 13:55   \n",
       "9287  cu_9****     1  2018.11.01 23:16   \n",
       "9288  poma****     4  2018.10.31 18:43   \n",
       "9289  1phi****     2  2018.10.31 10:15   \n",
       "\n",
       "                                                 review  \n",
       "9280  와 롯데.. 알바생들 진짜 많이쓴다. 그래서 1점 주고싶어지게 만드네.. 진짜 마케...  \n",
       "9281  장소 이동없이 한신으로 찍은 최저 제작비인듯결국..전부 상상이고  ㅡㅡ중간중간 웃음...  \n",
       "9282                           올해 최악의 영화네요 별점 1점도 아까움    \n",
       "9283  이거 보면서 나가고싶은 순간이 10번 넘는다.이거 평점 5점 이상 준 사람 머지 어...  \n",
       "9284              알바들 때문에 1점 놓고 감 물론 영화는 안봤고 볼 생각도 없음    \n",
       "9285                                     여혐+퀴어비하 끔찍파티    \n",
       "9286  마지막컷은 이사람들이 게임을하지않았을시 전개과정을 나타냄 10소름인건 이서진이랑 조...  \n",
       "9287  빵점은 못주나요? 여혐이주류 그리고 첨가된 동성애혐 진짜 여자 가슴이야기가 내용의 ...  \n",
       "9288  평점들 믿지 마세요.. 어디가 고오급 드립인지도 모르겠고 문자 올때마다 하나같이 개...  \n",
       "9289  보다초반에짜증나구지루해서 뛰쳐나옴;; 조나재미없구지들밥처먹구수다떠는걸왜 구경해줘야하...  "
      ]
     },
     "execution_count": 9,
     "metadata": {},
     "output_type": "execute_result"
    }
   ],
   "source": [
    "data[9280:]"
   ]
  },
  {
   "cell_type": "markdown",
   "metadata": {},
   "source": [
    "#### xlsx로 저장"
   ]
  },
  {
   "cell_type": "code",
   "execution_count": 12,
   "metadata": {},
   "outputs": [],
   "source": [
    "data[:10].to_excel(\"example.xlsx\")"
   ]
  },
  {
   "cell_type": "markdown",
   "metadata": {},
   "source": [
    "#### txt로 저장"
   ]
  },
  {
   "cell_type": "code",
   "execution_count": 21,
   "metadata": {},
   "outputs": [
    {
     "data": {
      "text/plain": [
       "['촬영 장소? 스케일? 다른 거 다 필요 없다. 최고의 배우들이 자그마한 식탁 위에서 최상의 요리를 만들어냈다. 어떠한 양념, 조미료도 필요하지 않았다.  ',\n",
       " '관람객사람의 본심은 월식과 같아서 언젠가 드러나는 법  ',\n",
       " '다른 의미로 공포 영화.  ',\n",
       " '저게우리였으면  아무한테도연락안와서 밥만먹고끝났을듯 ㅜ ㅜ  ',\n",
       " '올해  최고의 블랙코미디. 유해진의 연기는 믿고 봅니다.  ',\n",
       " '관람객간만에 극장에서 다 같이 웃는 경험 한거 같아요 ㅋㅋㅋㅋ 웃음 포인트도 많고 소름돋는 포인트도 있어서 재밌었어요 ㅋㅋㅋ 핸드폰이 누구나 쓰는 물건이라서 더 공감가는 것 같습니당 추천해요  ',\n",
       " '57세 키티는 최고!! 간만에 배아프게 웃으며 봤습니다 ^^  ',\n",
       " '윤경호라는 배우의 대발견.. 큰 배우들사에서도 전혀 꿀리는거없이 존재감 제대로 사네  ',\n",
       " '서로를 잘 모르기에 함께 살 수 있는 우리들  ',\n",
       " '요즘 망해가는 한국영화들중에 젤만족스러웠다 막장같은 스토리임에도 깔끔한연출과 배우들의 미친 연기력땜에 쫄리면서도 계속웃겨서쉴틈을 안줌 ㅋㅋㅋ  ']"
      ]
     },
     "execution_count": 21,
     "metadata": {},
     "output_type": "execute_result"
    }
   ],
   "source": [
    "text[:10]"
   ]
  },
  {
   "cell_type": "code",
   "execution_count": 24,
   "metadata": {},
   "outputs": [],
   "source": [
    "f = open('assign01.txt','w')\n",
    "te = text[:10]\n",
    "for i in te:\n",
    "    let = \"%s \\n\" %i\n",
    "    f.write(let)\n",
    "f.close()"
   ]
  }
 ],
 "metadata": {
  "kernelspec": {
   "display_name": "Python 3",
   "language": "python",
   "name": "python3"
  },
  "language_info": {
   "codemirror_mode": {
    "name": "ipython",
    "version": 3
   },
   "file_extension": ".py",
   "mimetype": "text/x-python",
   "name": "python",
   "nbconvert_exporter": "python",
   "pygments_lexer": "ipython3",
   "version": "3.6.5"
  }
 },
 "nbformat": 4,
 "nbformat_minor": 2
}
